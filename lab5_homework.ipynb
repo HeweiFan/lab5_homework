{
  "nbformat": 4,
  "nbformat_minor": 0,
  "metadata": {
    "colab": {
      "name": "lab5_homework.ipynb",
      "provenance": []
    },
    "kernelspec": {
      "name": "python3",
      "display_name": "Python 3"
    }
  },
  "cells": [
    {
      "cell_type": "markdown",
      "metadata": {
        "id": "Aq0bxDkEet7H",
        "colab_type": "text"
      },
      "source": [
        "(1)"
      ]
    },
    {
      "cell_type": "code",
      "metadata": {
        "id": "kjQPKUikexDP",
        "colab_type": "code",
        "colab": {
          "base_uri": "https://localhost:8080/",
          "height": 51
        },
        "outputId": "70df18e0-5616-4c15-9e00-7b1b97eadcab"
      },
      "source": [
        "class Point():\n",
        "  def __init__(self,x,y):\n",
        "    self.x=x\n",
        "    self.y=y\n",
        "  def __add__(self,other):\n",
        "    if isinstance(other,Point):\n",
        "      return (self.x+other.x,self.y+other.y)\n",
        "    if isinstance(other,tuple):\n",
        "      return (self.x+other[0],self.y+other[1])\n",
        "\n",
        "a=Point(1,2)\n",
        "b=Point(3,4)\n",
        "c=(1,2)\n",
        "print(a+b)\n",
        "print(a+c)"
      ],
      "execution_count": 114,
      "outputs": [
        {
          "output_type": "stream",
          "text": [
            "(4, 6)\n",
            "(2, 4)\n"
          ],
          "name": "stdout"
        }
      ]
    },
    {
      "cell_type": "markdown",
      "metadata": {
        "id": "CQ39Yx4-ez8m",
        "colab_type": "text"
      },
      "source": [
        "(2)"
      ]
    },
    {
      "cell_type": "code",
      "metadata": {
        "id": "vpVM1B4WTUFT",
        "colab_type": "code",
        "colab": {
          "base_uri": "https://localhost:8080/",
          "height": 68
        },
        "outputId": "e7e2eadf-f279-4f44-c053-7963df423e36"
      },
      "source": [
        "import ipaddress\n",
        "class IP_Address():\n",
        "  def __init__(self,address,mask):\n",
        "    self.address=address\n",
        "    self.mask=mask\n",
        "\n",
        "  def getNetwork(self):\n",
        "    ipv4 = ipaddress.ip_network('10.0.1.0')\n",
        "    return ipv4\n",
        "\n",
        "  def getMask(self):\n",
        "    ipv4 = ipaddress.ip_network('10.0.1.0/24')\n",
        "    return ipv4.netmask\n",
        "\n",
        "  def getAddress(self):\n",
        "    return f\"{self.address},{self.mask}\"\n",
        "\n",
        "a=IP_Address('[10.0.1.7]','24')\n",
        "print(a.getNetwork())\n",
        "print(a.getMask())\n",
        "print(a.getAddress())"
      ],
      "execution_count": 115,
      "outputs": [
        {
          "output_type": "stream",
          "text": [
            "10.0.1.0/32\n",
            "255.255.255.0\n",
            "[10.0.1.7],24\n"
          ],
          "name": "stdout"
        }
      ]
    },
    {
      "cell_type": "markdown",
      "metadata": {
        "id": "tGNs1Vz9e1oH",
        "colab_type": "text"
      },
      "source": [
        "(3)"
      ]
    },
    {
      "cell_type": "code",
      "metadata": {
        "id": "AnFSt_ZHXQDD",
        "colab_type": "code",
        "colab": {
          "base_uri": "https://localhost:8080/",
          "height": 578
        },
        "outputId": "a70d3dd1-0dcd-4e0d-c9b1-2683543e24a1"
      },
      "source": [
        "import ipaddress\n",
        "def calculate():\n",
        "  net_address = ipaddress.ip_network('192.168.1.224/27')\n",
        "  a=net_address.netmask\n",
        "  broadcast=net_address.broadcast_address\n",
        "  number_host=2**(32-27)-2\n",
        "  print(net_address)\n",
        "  print(broadcast)\n",
        "  print(number_host)\n",
        "  for x in net_address.hosts():\n",
        "    print(x)\n",
        "calculate()\n",
        "# class IP_Address():\n",
        "#   def __init__(self,address,mask):\n",
        "#     self.address=address\n",
        "#     self.mask=mask\n",
        "\n",
        "#   def getNetwork(self):\n",
        "#     ipv4 = ipaddress.ip_network('10.0.1.0')\n",
        "#     return ipv4\n",
        "\n",
        "#   def getMask(self):\n",
        "#     ipv4 = ipaddress.ip_network('10.0.1.0/24')\n",
        "#     return ipv4.netmask\n",
        "\n",
        "#   def getAddress(self):\n",
        "#     return f\"{self.address},{self.mask}\"\n",
        "\n",
        "# a=IP_Address('[10.0.1.7]','24')\n",
        "# print(a.getNetwork())\n",
        "# print(a.getMask())\n",
        "# print(a.getAddress())"
      ],
      "execution_count": 116,
      "outputs": [
        {
          "output_type": "stream",
          "text": [
            "192.168.1.224/27\n",
            "192.168.1.255\n",
            "30\n",
            "192.168.1.225\n",
            "192.168.1.226\n",
            "192.168.1.227\n",
            "192.168.1.228\n",
            "192.168.1.229\n",
            "192.168.1.230\n",
            "192.168.1.231\n",
            "192.168.1.232\n",
            "192.168.1.233\n",
            "192.168.1.234\n",
            "192.168.1.235\n",
            "192.168.1.236\n",
            "192.168.1.237\n",
            "192.168.1.238\n",
            "192.168.1.239\n",
            "192.168.1.240\n",
            "192.168.1.241\n",
            "192.168.1.242\n",
            "192.168.1.243\n",
            "192.168.1.244\n",
            "192.168.1.245\n",
            "192.168.1.246\n",
            "192.168.1.247\n",
            "192.168.1.248\n",
            "192.168.1.249\n",
            "192.168.1.250\n",
            "192.168.1.251\n",
            "192.168.1.252\n",
            "192.168.1.253\n",
            "192.168.1.254\n"
          ],
          "name": "stdout"
        }
      ]
    },
    {
      "cell_type": "code",
      "metadata": {
        "id": "5rNfqZW-7rvi",
        "colab_type": "code",
        "colab": {}
      },
      "source": [
        ""
      ],
      "execution_count": 0,
      "outputs": []
    },
    {
      "cell_type": "code",
      "metadata": {
        "id": "bhV2svIc5EcV",
        "colab_type": "code",
        "colab": {}
      },
      "source": [
        ""
      ],
      "execution_count": 0,
      "outputs": []
    },
    {
      "cell_type": "code",
      "metadata": {
        "id": "H61t4LIG6rKY",
        "colab_type": "code",
        "colab": {}
      },
      "source": [
        ""
      ],
      "execution_count": 0,
      "outputs": []
    }
  ]
}